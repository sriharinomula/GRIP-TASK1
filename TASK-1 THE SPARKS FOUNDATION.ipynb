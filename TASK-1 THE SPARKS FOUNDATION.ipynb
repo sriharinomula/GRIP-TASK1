{
 "cells": [
  {
   "cell_type": "markdown",
   "id": "f7a86295",
   "metadata": {},
   "source": [
    "# GRADUATE ROTATIONAL INTERNSHIP PROGRAM-THE SPARKS FOUNDATION"
   ]
  },
  {
   "cell_type": "markdown",
   "id": "7a37c3fa",
   "metadata": {},
   "source": [
    "#TASK-1"
   ]
  },
  {
   "cell_type": "markdown",
   "id": "2208f535",
   "metadata": {},
   "source": [
    "#OBJECTIVE:predicting the percentage of an student based on no.of study hours"
   ]
  },
  {
   "cell_type": "markdown",
   "id": "874b3ac7",
   "metadata": {},
   "source": [
    "#Our target is to find the percentage of a student whose no.of study hours is 9.25"
   ]
  },
  {
   "cell_type": "markdown",
   "id": "51c8440e",
   "metadata": {},
   "source": [
    "#AUTHOR:SRIHARI NOMULA"
   ]
  },
  {
   "cell_type": "markdown",
   "id": "f9826c2b",
   "metadata": {},
   "source": [
    "#Importing The Required Libraries"
   ]
  },
  {
   "cell_type": "code",
   "execution_count": 3,
   "id": "b0c3b551",
   "metadata": {},
   "outputs": [],
   "source": [
    "import pandas as pd\n",
    "import numpy as np\n",
    "from math import floor,ceil\n"
   ]
  },
  {
   "cell_type": "code",
   "execution_count": 4,
   "id": "d2f1e659",
   "metadata": {},
   "outputs": [],
   "source": [
    "Hours=[2.5,5.1,3.2,8.5,3.5,1.5,9.2,5.5,8.3,2.7,7.7,5.9,4.5,3.3,1.1,8.9,2.5,1.9,6.1,7.4,2.7,4.8,3.8,6.9,7.8]\n",
    "Scores=[21,47,27,75,30,20,88,60,81,25,85,62,41,42,17,95,30,24,67,69,30,54,35,76,86]"
   ]
  },
  {
   "cell_type": "code",
   "execution_count": 5,
   "id": "db4e3ac1",
   "metadata": {},
   "outputs": [],
   "source": [
    "data=pd.DataFrame({\"Hours\":Hours,\"Scores\":Scores})"
   ]
  },
  {
   "cell_type": "code",
   "execution_count": 6,
   "id": "a03dac1d",
   "metadata": {},
   "outputs": [
    {
     "data": {
      "text/html": [
       "<div>\n",
       "<style scoped>\n",
       "    .dataframe tbody tr th:only-of-type {\n",
       "        vertical-align: middle;\n",
       "    }\n",
       "\n",
       "    .dataframe tbody tr th {\n",
       "        vertical-align: top;\n",
       "    }\n",
       "\n",
       "    .dataframe thead th {\n",
       "        text-align: right;\n",
       "    }\n",
       "</style>\n",
       "<table border=\"1\" class=\"dataframe\">\n",
       "  <thead>\n",
       "    <tr style=\"text-align: right;\">\n",
       "      <th></th>\n",
       "      <th>Hours</th>\n",
       "      <th>Scores</th>\n",
       "    </tr>\n",
       "  </thead>\n",
       "  <tbody>\n",
       "    <tr>\n",
       "      <th>0</th>\n",
       "      <td>2.5</td>\n",
       "      <td>21</td>\n",
       "    </tr>\n",
       "    <tr>\n",
       "      <th>1</th>\n",
       "      <td>5.1</td>\n",
       "      <td>47</td>\n",
       "    </tr>\n",
       "    <tr>\n",
       "      <th>2</th>\n",
       "      <td>3.2</td>\n",
       "      <td>27</td>\n",
       "    </tr>\n",
       "    <tr>\n",
       "      <th>3</th>\n",
       "      <td>8.5</td>\n",
       "      <td>75</td>\n",
       "    </tr>\n",
       "    <tr>\n",
       "      <th>4</th>\n",
       "      <td>3.5</td>\n",
       "      <td>30</td>\n",
       "    </tr>\n",
       "  </tbody>\n",
       "</table>\n",
       "</div>"
      ],
      "text/plain": [
       "   Hours  Scores\n",
       "0    2.5      21\n",
       "1    5.1      47\n",
       "2    3.2      27\n",
       "3    8.5      75\n",
       "4    3.5      30"
      ]
     },
     "execution_count": 6,
     "metadata": {},
     "output_type": "execute_result"
    }
   ],
   "source": [
    "data.head()"
   ]
  },
  {
   "cell_type": "markdown",
   "id": "1175b2d6",
   "metadata": {},
   "source": [
    "#visualising the data using matplotlib library"
   ]
  },
  {
   "cell_type": "code",
   "execution_count": 7,
   "id": "e3a81833",
   "metadata": {},
   "outputs": [
    {
     "data": {
      "text/plain": [
       "<matplotlib.legend.Legend at 0x1dae234c580>"
      ]
     },
     "execution_count": 7,
     "metadata": {},
     "output_type": "execute_result"
    },
    {
     "data": {
      "image/png": "[encoded data removed]",
      "text/plain": [
       "<Figure size 432x288 with 1 Axes>"
      ]
     },
     "metadata": {
      "needs_background": "light"
     },
     "output_type": "display_data"
    }
   ],
   "source": [
    "import matplotlib.pyplot as plt\n",
    "%matplotlib inline\n",
    "plt.scatter(data.Hours,data.Scores,color='orange',label='datapoints')\n",
    "plt.xlim(0,ceil(max(Hours)))\n",
    "plt.ylim(0,120)\n",
    "plt.xlabel('Hours')\n",
    "plt.ylabel('Scores')\n",
    "plt.legend()"
   ]
  },
  {
   "cell_type": "code",
   "execution_count": 8,
   "id": "27d2afa3",
   "metadata": {},
   "outputs": [
    {
     "data": {
      "text/plain": [
       "((25, 1), (25, 1))"
      ]
     },
     "execution_count": 8,
     "metadata": {},
     "output_type": "execute_result"
    }
   ],
   "source": [
    "x=pd.DataFrame({\"Hours\":Hours})\n",
    "y=pd.DataFrame({\"Scores\":Scores})\n",
    "x.shape,y.shape"
   ]
  },
  {
   "cell_type": "code",
   "execution_count": 9,
   "id": "2f963fb8",
   "metadata": {},
   "outputs": [
    {
     "data": {
      "text/html": [
       "<div>\n",
       "<style scoped>\n",
       "    .dataframe tbody tr th:only-of-type {\n",
       "        vertical-align: middle;\n",
       "    }\n",
       "\n",
       "    .dataframe tbody tr th {\n",
       "        vertical-align: top;\n",
       "    }\n",
       "\n",
       "    .dataframe thead th {\n",
       "        text-align: right;\n",
       "    }\n",
       "</style>\n",
       "<table border=\"1\" class=\"dataframe\">\n",
       "  <thead>\n",
       "    <tr style=\"text-align: right;\">\n",
       "      <th></th>\n",
       "      <th>Scores</th>\n",
       "    </tr>\n",
       "  </thead>\n",
       "  <tbody>\n",
       "    <tr>\n",
       "      <th>0</th>\n",
       "      <td>21</td>\n",
       "    </tr>\n",
       "    <tr>\n",
       "      <th>1</th>\n",
       "      <td>47</td>\n",
       "    </tr>\n",
       "    <tr>\n",
       "      <th>2</th>\n",
       "      <td>27</td>\n",
       "    </tr>\n",
       "    <tr>\n",
       "      <th>3</th>\n",
       "      <td>75</td>\n",
       "    </tr>\n",
       "    <tr>\n",
       "      <th>4</th>\n",
       "      <td>30</td>\n",
       "    </tr>\n",
       "  </tbody>\n",
       "</table>\n",
       "</div>"
      ],
      "text/plain": [
       "   Scores\n",
       "0      21\n",
       "1      47\n",
       "2      27\n",
       "3      75\n",
       "4      30"
      ]
     },
     "execution_count": 9,
     "metadata": {},
     "output_type": "execute_result"
    }
   ],
   "source": [
    "y.head()"
   ]
  },
  {
   "cell_type": "markdown",
   "id": "af43d862",
   "metadata": {},
   "source": [
    "#splitting the data into train and test in the 3:1 ratio"
   ]
  },
  {
   "cell_type": "code",
   "execution_count": 10,
   "id": "bae9d599",
   "metadata": {},
   "outputs": [],
   "source": [
    "from sklearn.model_selection import train_test_split\n",
    "train_x,test_x,train_y,test_y=train_test_split(x,y,random_state=55,test_size=0.25)"
   ]
  },
  {
   "cell_type": "markdown",
   "id": "ab40ccee",
   "metadata": {},
   "source": [
    "#importing the linear regression model and evaluation metric i.e mean absolute error"
   ]
  },
  {
   "cell_type": "code",
   "execution_count": 23,
   "id": "08e71d44",
   "metadata": {},
   "outputs": [],
   "source": [
    "from sklearn.linear_model import LinearRegression as Lr\n",
    "from sklearn.metrics import mean_absolute_error as mea"
   ]
  },
  {
   "cell_type": "code",
   "execution_count": 24,
   "id": "5fac4289",
   "metadata": {},
   "outputs": [
    {
     "data": {
      "text/plain": [
       "LinearRegression()"
      ]
     },
     "execution_count": 24,
     "metadata": {},
     "output_type": "execute_result"
    }
   ],
   "source": [
    "lr=Lr()\n",
    "lr.fit(train_x,train_y)"
   ]
  },
  {
   "cell_type": "markdown",
   "id": "58541ee2",
   "metadata": {},
   "source": [
    "#calculating the mean absolute error of train data"
   ]
  },
  {
   "cell_type": "code",
   "execution_count": 25,
   "id": "f6603dbf",
   "metadata": {},
   "outputs": [
    {
     "name": "stdout",
     "output_type": "stream",
     "text": [
      "4.612441902037897\n"
     ]
    }
   ],
   "source": [
    "train_predict=lr.predict(train_x)\n",
    "k=mea(train_predict,train_y)\n",
    "print(k)"
   ]
  },
  {
   "cell_type": "markdown",
   "id": "56802500",
   "metadata": {},
   "source": [
    "#visualising the training data"
   ]
  },
  {
   "cell_type": "code",
   "execution_count": 26,
   "id": "1add04c1",
   "metadata": {},
   "outputs": [
    {
     "data": {
      "text/plain": [
       "<matplotlib.legend.Legend at 0x1dae5148be0>"
      ]
     },
     "execution_count": 26,
     "metadata": {},
     "output_type": "execute_result"
    },
    {
     "data": {
      "image/png": "[encoded data removed]",
      "text/plain": [
       "<Figure size 432x288 with 1 Axes>"
      ]
     },
     "metadata": {
      "needs_background": "light"
     },
     "output_type": "display_data"
    }
   ],
   "source": [
    "plt.scatter(train_x,train_y,color='orange',label='datapoints')\n",
    "plt.plot(train_x,train_predict,color='black',label='line')\n",
    "plt.xlim(0,ceil(max(Hours)))\n",
    "plt.ylim(0,120)\n",
    "plt.xlabel('no.of study hours')\n",
    "plt.ylabel('score obtained')\n",
    "plt.title('no.of study hours vs score obtained')\n",
    "plt.legend()"
   ]
  },
  {
   "cell_type": "markdown",
   "id": "dfdcf056",
   "metadata": {},
   "source": [
    "#calculating the mean absolute error of test data"
   ]
  },
  {
   "cell_type": "code",
   "execution_count": 27,
   "id": "1bfa4011",
   "metadata": {},
   "outputs": [
    {
     "name": "stdout",
     "output_type": "stream",
     "text": [
      "5.2888298687369115\n"
     ]
    }
   ],
   "source": [
    "test_predict=lr.predict(test_x)\n",
    "k=mea(test_predict,test_y)\n",
    "print(k)"
   ]
  },
  {
   "cell_type": "markdown",
   "id": "bae289e1",
   "metadata": {},
   "source": [
    "#visualising test data"
   ]
  },
  {
   "cell_type": "code",
   "execution_count": 28,
   "id": "68e2bac8",
   "metadata": {},
   "outputs": [
    {
     "data": {
      "text/plain": [
       "<matplotlib.legend.Legend at 0x1dae52ad160>"
      ]
     },
     "execution_count": 28,
     "metadata": {},
     "output_type": "execute_result"
    },
    {
     "data": {
      "image/png": "[encoded data removed]",
      "text/plain": [
       "<Figure size 432x288 with 1 Axes>"
      ]
     },
     "metadata": {
      "needs_background": "light"
     },
     "output_type": "display_data"
    }
   ],
   "source": [
    "plt.scatter(test_x,test_y,color='orange',label='datapoints')\n",
    "plt.plot(test_x,test_predict,color='black',label='line')\n",
    "plt.xlim(0,ceil(max(Hours)))\n",
    "plt.ylim(0,120)\n",
    "plt.xlabel('no.of study hours')\n",
    "plt.ylabel('scores obtained')\n",
    "plt.title('no.of study hours vs scores obtained')\n",
    "plt.legend()"
   ]
  },
  {
   "cell_type": "markdown",
   "id": "dc633160",
   "metadata": {},
   "source": [
    "#predicting score obtained by student for studing 9.25 hours per day"
   ]
  },
  {
   "cell_type": "code",
   "execution_count": 29,
   "id": "4705e063",
   "metadata": {},
   "outputs": [
    {
     "name": "stdout",
     "output_type": "stream",
     "text": [
      "[[93.14801573]]\n"
     ]
    }
   ],
   "source": [
    "a=lr.predict([[9.25]])\n",
    "print(a)"
   ]
  }
 ],
 "metadata": {
  "kernelspec": {
   "display_name": "Python 3",
   "language": "python",
   "name": "python3"
  },
  "language_info": {
   "codemirror_mode": {
    "name": "ipython",
    "version": 3
   },
   "file_extension": ".py",
   "mimetype": "text/x-python",
   "name": "python",
   "nbconvert_exporter": "python",
   "pygments_lexer": "ipython3",
   "version": "3.8.8"
  }
 },
 "nbformat": 4,
 "nbformat_minor": 5
}
